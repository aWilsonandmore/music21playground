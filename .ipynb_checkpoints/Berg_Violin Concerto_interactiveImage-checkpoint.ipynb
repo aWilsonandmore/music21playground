{
 "cells": [
  {
   "cell_type": "markdown",
   "metadata": {},
   "source": [
    "# music21: A Toolkit for Comupter-Aided Musicology"
   ]
  },
  {
   "cell_type": "markdown",
   "metadata": {},
   "source": [
    "## Some examples to test basic music21 functionalities"
   ]
  },
  {
   "cell_type": "markdown",
   "metadata": {},
   "source": [
    "This is a Jupyter notebook created by [@musicenfanthen](https://github.com/musicEnfanthen) and [@aWilsonandmore](https://github.com/aWilsonandmore) to work with some basic functionalities of music21 (http://web.mit.edu/music21/). For more information on Jupyter notebooks go to http://jupyter.org/. \n",
    "\n",
    "To execute a block of code in this notebook, click in the cell and press `Shift+Enter`.\n",
    "\n",
    "To get help on any music21 routine, click on it and press `Shift+Tab`."
   ]
  },
  {
   "cell_type": "markdown",
   "metadata": {},
   "source": [
    "### Imports and setup"
   ]
  },
  {
   "cell_type": "markdown",
   "metadata": {},
   "source": [
    "To use music21 in this notebook and python, you have to import all (\\*) routines  from music21 at first with the following command.\n",
    "\n",
    "<div class=\"alert alert-block alert-warning\">\n",
    "\"You’ll probably get a few warnings that you’re missing some optional modules. That’s okay. If you get a warning that “no module named music21” then something probably went wrong above.\" (Source: http://web.mit.edu/music21/doc/usersGuide/usersGuide_01_installing.html)\n",
    "</div>"
   ]
  },
  {
   "cell_type": "code",
   "execution_count": 2,
   "metadata": {},
   "outputs": [],
   "source": [
    "from music21 import *"
   ]
  },
  {
   "cell_type": "markdown",
   "metadata": {},
   "source": [
    "Probably you have to set manually the correct file path to an Application that is able to open MusicXML files (like MuseScore). To do so, use the `music21.environment` module to set an `musicxmlPath` key.\n",
    "\n",
    "Make sure to change the string `path/to/your/musicXmlApplication` below to the correct file path (keep the quotation marks):\n",
    "- on Mac e.g.: `/Applications/MuseScore 2.app/Contents/MacOS/mscore` \n",
    "- or on Windows e.g.: `C:/Program Files (x86)/MuseScore 2/bin/MuseScore.exe`) \n",
    "\n",
    "and uncomment the line (remove the `#` at the begin of the line).\n",
    "\n",
    "In the same way, you can also add a path to your lilypond installation, using\n",
    "`env['lilypondPath']`:\n",
    "- on Mac e.g.: `Applications/Lilypond.app`\n",
    "- on Windows e.g.: `C:/Program Files (x86)/LilyPond/usr/bin/lilypond.exe`\n",
    "\n",
    "Sometimes it's also necessary to adapt the `musescoreDirectPNGPath`. Check if it corresponds to your museScore path."
   ]
  },
  {
   "cell_type": "code",
   "execution_count": 13,
   "metadata": {},
   "outputs": [
    {
     "name": "stdout",
     "output_type": "stream",
     "text": [
      "Environment settings:\n",
      "musicXML:   C:\\Program Files (x86)\\MuseScore 2\\bin\\MuseScore.exe\n",
      "musescore:  C:\\Program Files (x86)\\MuseScore 2\\bin\\MuseScore.exe\n",
      "lilypond:   C:\\Program Files (x86)\\LilyPond\\usr\\bin\\lilypond.exe\n"
     ]
    }
   ],
   "source": [
    "# definition of environment settings is different from the settings \n",
    "# when this jupyter notebook runs locally on your machine.\n",
    "# Changes are necessary because jupyter notebook is running via Binder image\n",
    "\n",
    "env = environment.Environment()\n",
    "\n",
    "env['lilypondPath']='/usr/bin/lilypond'\n",
    "env['musescoreDirectPNGPath'] = '/usr/bin/musescore'\n",
    "env['musicxmlPath'] = '/usr/bin/musescore'\n",
    "\n",
    "environment.set('pdfPath', '/usr/bin/musescore')\n",
    "environment.set('graphicsPath', '/usr/bin/musescore')\n",
    "\n",
    "print('Environment settings:')\n",
    "print('musicXML:  ', env['musicxmlPath'])\n",
    "print('musescore: ', env['musescoreDirectPNGPath'])\n",
    "print('lilypond:  ', env['lilypondPath'])"
   ]
  },
  {
   "cell_type": "markdown",
   "metadata": {},
   "source": [
    "<div class=\"alert alert-block alert-warning\">\n",
    "Using jupyter notebook inside a Binder image causes some issues with music21's \".show()\"-method (see: https://github.com/cuthbertLab/music21/issues/260). Thanks to Tony Hirst (@psychemedia) there is a small workaround with a redefinition of the method:\n",
    "</div>"
   ]
  },
  {
   "cell_type": "code",
   "execution_count": 7,
   "metadata": {},
   "outputs": [],
   "source": [
    "# re-definition of sho()-method ---> \"HACK\" from https://github.com/psychemedia/showntell/blob/music/index_music.ipynb\n",
    "# see also this music21 issue: https://github.com/cuthbertLab/music21/issues/260\n",
    "%load_ext music21.ipython21\n",
    "\n",
    "from IPython.display import Image\n",
    "\n",
    "def render(s):\n",
    "    s.show('lily.png')\n",
    "    return Image(filename=s.write('lily.png'))"
   ]
  },
  {
   "cell_type": "markdown",
   "metadata": {},
   "source": [
    "### Let's create some notes"
   ]
  },
  {
   "cell_type": "markdown",
   "metadata": {},
   "source": [
    "One possible way to create notes in music21 is to use the `Note()`-Object (CAPITAL LETTER) within music21's `note`-subModule (small letter).\n",
    "\n",
    "Let's use the twelve-tone row of Alban Berg's Violin Concerto (1935) as an example. Take care how the different octaves and accidentals are declared."
   ]
  },
  {
   "cell_type": "code",
   "execution_count": 14,
   "metadata": {},
   "outputs": [
    {
     "data": {
      "text/plain": [
       "[<music21.note.Note G>,\n",
       " <music21.note.Note B->,\n",
       " <music21.note.Note D>,\n",
       " <music21.note.Note F#>,\n",
       " <music21.note.Note A>,\n",
       " <music21.note.Note C>,\n",
       " <music21.note.Note E>,\n",
       " <music21.note.Note G#>,\n",
       " <music21.note.Note B>,\n",
       " <music21.note.Note C#>,\n",
       " <music21.note.Note D#>,\n",
       " <music21.note.Note F>]"
      ]
     },
     "execution_count": 14,
     "metadata": {},
     "output_type": "execute_result"
    }
   ],
   "source": [
    "note1 = note.Note(\"G3\")     # declaration of first note\n",
    "note2 = note.Note(\"B-3\")\n",
    "note3 = note.Note(\"D4\")\n",
    "note4 = note.Note(\"F#4\")\n",
    "note5 = note.Note(\"A4\")\n",
    "note6 = note.Note(\"C5\")\n",
    "note7 = note.Note(\"E5\")\n",
    "note8 = note.Note(\"G#5\")\n",
    "note9 = note.Note(\"B5\")\n",
    "note10 = note.Note(\"C#6\")\n",
    "note11 = note.Note(\"D#6\")\n",
    "note12 = note.Note(\"F6\")\n",
    "\n",
    "# combine the twelve notes in a row list\n",
    "bergRow = [note1, note2, note3, note4, note5, note6, note7, note8, note9, note10, note11, note12]\n",
    "bergRow    # output of bergRow (by just using the name of the variable)"
   ]
  },
  {
   "cell_type": "markdown",
   "metadata": {},
   "source": [
    "You can use `dir(MODULENAME)` to find out which objects any module contains at all (http://web.mit.edu/music21/doc/usersGuide/usersGuide_02_notes.html#usersguide-02-notes):"
   ]
  },
  {
   "cell_type": "code",
   "execution_count": 3,
   "metadata": {},
   "outputs": [
    {
     "data": {
      "text/plain": [
       "['GeneralNote',\n",
       " 'Lyric',\n",
       " 'LyricException',\n",
       " 'NotRest',\n",
       " 'NotRestException',\n",
       " 'Note',\n",
       " 'NoteException',\n",
       " 'Rest',\n",
       " 'SpacerRest',\n",
       " 'Test',\n",
       " 'TestExternal',\n",
       " 'Unpitched',\n",
       " '_DOC_ORDER',\n",
       " '_MOD',\n",
       " '__builtins__',\n",
       " '__cached__',\n",
       " '__doc__',\n",
       " '__file__',\n",
       " '__loader__',\n",
       " '__name__',\n",
       " '__package__',\n",
       " '__spec__',\n",
       " 'base',\n",
       " 'beam',\n",
       " 'common',\n",
       " 'copy',\n",
       " 'duration',\n",
       " 'environLocal',\n",
       " 'environment',\n",
       " 'exceptions21',\n",
       " 'expressions',\n",
       " 'interval',\n",
       " 'noteheadTypeNames',\n",
       " 'pitch',\n",
       " 'six',\n",
       " 'stemDirectionNames',\n",
       " 'style',\n",
       " 'tie',\n",
       " 'unittest',\n",
       " 'volume']"
      ]
     },
     "execution_count": 3,
     "metadata": {},
     "output_type": "execute_result"
    }
   ],
   "source": [
    "dir(note)"
   ]
  },
  {
   "cell_type": "markdown",
   "metadata": {},
   "source": [
    "To iterate over every single item in a list, you can use a \"FOR\"-loop.\n",
    "\n",
    "Syntax (indentation matters here!):\n",
    "\n",
    "    for ITEM in LIST:    \n",
    "        do something with ITEM\n",
    "        ...\n"
   ]
  },
  {
   "cell_type": "code",
   "execution_count": 27,
   "metadata": {},
   "outputs": [
    {
     "name": "stdout",
     "output_type": "stream",
     "text": [
      "<music21.duration.Duration 4.0> G3\n",
      "<music21.duration.Duration 4.0> B-3\n",
      "<music21.duration.Duration 4.0> D4\n",
      "<music21.duration.Duration 4.0> F#4\n",
      "<music21.duration.Duration 4.0> A4\n",
      "<music21.duration.Duration 4.0> C5\n",
      "<music21.duration.Duration 4.0> E5\n",
      "<music21.duration.Duration 4.0> G#5\n",
      "<music21.duration.Duration 4.0> B5\n",
      "<music21.duration.Duration 4.0> C#6\n",
      "<music21.duration.Duration 4.0> D#6\n",
      "<music21.duration.Duration 4.0> F6\n"
     ]
    }
   ],
   "source": [
    "for currentNote in bergRow:                                    # for every note in bergRow list do...\n",
    "    currentNote.duration.type = 'whole'                        # ... declare duration of a whole note\n",
    "    print(currentNote.duration, currentNote.nameWithOctave)    # ... output of note duration and name (using the print command)"
   ]
  },
  {
   "cell_type": "markdown",
   "metadata": {},
   "source": [
    "### Create simple Streams"
   ]
  },
  {
   "cell_type": "markdown",
   "metadata": {},
   "source": [
    "Streams are fundamental objects in music21. Almost everything (`Score`, `Parts`, `Voices`, `Measures` a.o.) is organized in terms of this abstract data structure. An empty stream is created by using the `Stream()`-Object (CAPITAL LETTER) within music21's `stream`-subModule (small letter)."
   ]
  },
  {
   "cell_type": "code",
   "execution_count": 33,
   "metadata": {},
   "outputs": [
    {
     "name": "stdout",
     "output_type": "stream",
     "text": [
      "{0.0} <music21.note.Note G>\n",
      "{1.0} <music21.note.Note B->\n",
      "{2.0} <music21.note.Note D>\n",
      "{3.0} <music21.note.Note F#>\n",
      "{4.0} <music21.note.Note A>\n",
      "{5.0} <music21.note.Note C>\n",
      "{6.0} <music21.note.Note E>\n",
      "{7.0} <music21.note.Note G#>\n",
      "{8.0} <music21.note.Note B>\n",
      "{9.0} <music21.note.Note C#>\n",
      "{10.0} <music21.note.Note D#>\n",
      "{11.0} <music21.note.Note F>\n"
     ]
    }
   ],
   "source": [
    "bergStream = stream.Stream()        # create empty stream\n",
    "\n",
    "for currentNote in bergRow:         # iterate over every note in bergRow and ...\n",
    "    bergStream.append(currentNote)  # ... append current note to the stream\n",
    "\n",
    "bergStream.show('text')             # output of the stream (using the .show()-method with option 'text'; compare to output above)"
   ]
  },
  {
   "cell_type": "markdown",
   "metadata": {},
   "source": [
    "You can get the length of a stream, what is the number of items in it, with `len(STREAM)`:"
   ]
  },
  {
   "cell_type": "code",
   "execution_count": 31,
   "metadata": {},
   "outputs": [
    {
     "data": {
      "text/plain": [
       "12"
      ]
     },
     "execution_count": 31,
     "metadata": {},
     "output_type": "execute_result"
    }
   ],
   "source": [
    "len(bergStream)"
   ]
  },
  {
   "cell_type": "markdown",
   "metadata": {},
   "source": [
    "... or with just counting the Note-Elements (here you have to flatten the stream):"
   ]
  },
  {
   "cell_type": "code",
   "execution_count": 32,
   "metadata": {},
   "outputs": [
    {
     "data": {
      "text/plain": [
       "12"
      ]
     },
     "execution_count": 32,
     "metadata": {},
     "output_type": "execute_result"
    }
   ],
   "source": [
    "len(bergStream.flat.getElementsByClass(note.Note))"
   ]
  },
  {
   "cell_type": "markdown",
   "metadata": {},
   "source": [
    "But let's have a look at the stream now. Calling the `.show()`-method without any option will display a graphical visualisation of any music object via the musicxmlApplication defined in the environment at the beginning of this notebook.\n",
    "\n",
    "If you encounter problems here, make sure you have set the correct environment settings for `musicxmlPath` and `musescoreDirectPNGPath`."
   ]
  },
  {
   "cell_type": "code",
   "execution_count": 48,
   "metadata": {},
   "outputs": [
    {
     "data": {
      "image/png": "[encoded data removed]",
      "text/plain": [
       "<IPython.core.display.Image object>"
      ]
     },
     "metadata": {
      "image/png": {
       "height": 76,
       "width": 748
      }
     },
     "output_type": "display_data"
    }
   ],
   "source": [
    "# bergStream.show()\n",
    "render(bergStream)"
   ]
  },
  {
   "cell_type": "markdown",
   "metadata": {},
   "source": [
    "You can also use further options to get the output as `pdf` or `png` via `lilypond`:"
   ]
  },
  {
   "cell_type": "code",
   "execution_count": 50,
   "metadata": {},
   "outputs": [],
   "source": [
    "bergStream.show('lily.pdf')"
   ]
  },
  {
   "cell_type": "code",
   "execution_count": 51,
   "metadata": {},
   "outputs": [],
   "source": [
    "bergStream.show('lily.png')"
   ]
  },
  {
   "cell_type": "markdown",
   "metadata": {},
   "source": [
    "You could also use music21.tinyNotation, \"a simple way of specifying single line melodies\" (http://web.mit.edu/music21/doc/moduleReference/moduleTinyNotation.html), to define the notes of the row:"
   ]
  },
  {
   "cell_type": "code",
   "execution_count": 31,
   "metadata": {},
   "outputs": [
    {
     "data": {
      "image/png": "[encoded data removed]",
      "text/plain": [
       "<IPython.core.display.Image object>"
      ]
     },
     "metadata": {
      "image/png": {
       "height": 76,
       "width": 748
      }
     },
     "output_type": "display_data"
    }
   ],
   "source": [
    "bergRowTiny = converter.parse(\"tinyNotation: G1 B- d f# a c' e' g'# b' c''# d''# f''\")\n",
    "# bergRowTiny.show()\n",
    "render(bergRowTiny)"
   ]
  },
  {
   "cell_type": "markdown",
   "metadata": {},
   "source": [
    "Our `bergRowTiny` is also a stream because the tinyNotation converter created it automatically. But keep aware of the slightly different structure:"
   ]
  },
  {
   "cell_type": "code",
   "execution_count": 30,
   "metadata": {},
   "outputs": [
    {
     "name": "stdout",
     "output_type": "stream",
     "text": [
      "{0.0} <music21.stream.Measure 1 offset=0.0>\n",
      "    {0.0} <music21.clef.TrebleClef>\n",
      "    {0.0} <music21.meter.TimeSignature 4/4>\n",
      "    {0.0} <music21.note.Note G>\n",
      "{4.0} <music21.stream.Measure 2 offset=4.0>\n",
      "    {0.0} <music21.note.Note B->\n",
      "{8.0} <music21.stream.Measure 3 offset=8.0>\n",
      "    {0.0} <music21.note.Note D>\n",
      "{12.0} <music21.stream.Measure 4 offset=12.0>\n",
      "    {0.0} <music21.note.Note F#>\n",
      "{16.0} <music21.stream.Measure 5 offset=16.0>\n",
      "    {0.0} <music21.note.Note A>\n",
      "{20.0} <music21.stream.Measure 6 offset=20.0>\n",
      "    {0.0} <music21.note.Note C>\n",
      "{24.0} <music21.stream.Measure 7 offset=24.0>\n",
      "    {0.0} <music21.note.Note E>\n",
      "{28.0} <music21.stream.Measure 8 offset=28.0>\n",
      "    {0.0} <music21.note.Note G#>\n",
      "{32.0} <music21.stream.Measure 9 offset=32.0>\n",
      "    {0.0} <music21.note.Note B>\n",
      "{36.0} <music21.stream.Measure 10 offset=36.0>\n",
      "    {0.0} <music21.note.Note C#>\n",
      "{40.0} <music21.stream.Measure 11 offset=40.0>\n",
      "    {0.0} <music21.note.Note D#>\n",
      "{44.0} <music21.stream.Measure 12 offset=44.0>\n",
      "    {0.0} <music21.note.Note F>\n",
      "    {4.0} <music21.bar.Barline style=final>\n"
     ]
    }
   ],
   "source": [
    "bergRowTiny.show('text')"
   ]
  },
  {
   "cell_type": "markdown",
   "metadata": {},
   "source": [
    "### Ok nice, but where is the analytical part?"
   ]
  },
  {
   "cell_type": "markdown",
   "metadata": {},
   "source": [
    "music21 provides a large amount of build-in analytical tools. To start right away, just let's get the ambitus of the row in the stream using the `.analyze()`-method (http://web.mit.edu/music21/doc/moduleReference/moduleStream.html):"
   ]
  },
  {
   "cell_type": "code",
   "execution_count": 34,
   "metadata": {},
   "outputs": [
    {
     "data": {
      "text/plain": [
       "<music21.interval.Interval m21>"
      ]
     },
     "execution_count": 34,
     "metadata": {},
     "output_type": "execute_result"
    }
   ],
   "source": [
    "bergStream.analyze('ambitus')"
   ]
  },
  {
   "cell_type": "markdown",
   "metadata": {},
   "source": [
    "But always keep a \"thinking\" eye on the results:"
   ]
  },
  {
   "cell_type": "code",
   "execution_count": 35,
   "metadata": {},
   "outputs": [
    {
     "data": {
      "text/plain": [
       "<music21.key.Key of A major>"
      ]
     },
     "execution_count": 35,
     "metadata": {},
     "output_type": "execute_result"
    }
   ],
   "source": [
    "bergStream.analyze('key')"
   ]
  },
  {
   "cell_type": "markdown",
   "metadata": {},
   "source": [
    "The twelve-tone row of Berg's Violin Concerto is special because of its two major triads, two minor triads and a part of the whole tone scale. Let's separate these elements into new `Chord()`-Objects (part of `chord`-submodule):"
   ]
  },
  {
   "cell_type": "code",
   "execution_count": 37,
   "metadata": {},
   "outputs": [
    {
     "data": {
      "image/png": "[encoded data removed]",
      "text/plain": [
       "<IPython.core.display.Image object>"
      ]
     },
     "metadata": {
      "image/png": {
       "height": 51,
       "width": 144
      }
     },
     "output_type": "display_data"
    },
    {
     "data": {
      "image/png": "[encoded data removed]",
      "text/plain": [
       "<IPython.core.display.Image object>"
      ]
     },
     "metadata": {
      "image/png": {
       "height": 49,
       "width": 146
      }
     },
     "output_type": "display_data"
    },
    {
     "data": {
      "image/png": "[encoded data removed]",
      "text/plain": [
       "<IPython.core.display.Image object>"
      ]
     },
     "metadata": {
      "image/png": {
       "height": 50,
       "width": 137
      }
     },
     "output_type": "display_data"
    },
    {
     "data": {
      "image/png": "[encoded data removed]",
      "text/plain": [
       "<IPython.core.display.Image object>"
      ]
     },
     "metadata": {
      "image/png": {
       "height": 52,
       "width": 146
      }
     },
     "output_type": "display_data"
    },
    {
     "data": {
      "image/png": "[encoded data removed]",
      "text/plain": [
       "<IPython.core.display.Image object>"
      ]
     },
     "metadata": {
      "image/png": {
       "height": 65,
       "width": 181
      }
     },
     "output_type": "display_data"
    }
   ],
   "source": [
    "# declare some variables as Chord()-Objects\n",
    "triad1 = chord.Chord()\n",
    "triad2 = chord.Chord()\n",
    "triad3 = chord.Chord()\n",
    "triad4 = chord.Chord()\n",
    "wtScale = chord.Chord()\n",
    "\n",
    "# iterate over the first three notes in the stream\n",
    "for currentNote in bergStream[0:3]:\n",
    "    triad1.add(currentNote)           # add the currentNote to the Chord()\n",
    "\n",
    "# ...\n",
    "for currentNote in bergStream[2:5]:\n",
    "    triad2.add(currentNote)\n",
    "\n",
    "# ...\n",
    "for currentNote in bergStream[4:7]:\n",
    "    triad3.add(currentNote)\n",
    "\n",
    "# ...\n",
    "for currentNote in bergStream[6:9]:\n",
    "    triad4.add(currentNote)\n",
    "\n",
    "# iterate over the last three notes in the stream\n",
    "for currentNote in bergStream[8:12]:\n",
    "    wtScale.add(currentNote)\n",
    "\n",
    "# output the 5 chords\n",
    "# triad1.show()\n",
    "# triad2.show()\n",
    "# triad3.show()\n",
    "# triad4.show()\n",
    "# wtScale.show()\n",
    "\n",
    "render(triad1)\n",
    "render(triad2)\n",
    "render(triad3)\n",
    "render(triad4)\n",
    "render(wtScale)"
   ]
  },
  {
   "cell_type": "markdown",
   "metadata": {},
   "source": [
    "You can recombine multiple Chords() within a new Chord()-Object:"
   ]
  },
  {
   "cell_type": "code",
   "execution_count": 55,
   "metadata": {},
   "outputs": [
    {
     "data": {
      "image/png": "[encoded data removed]",
      "text/plain": [
       "<IPython.core.display.Image object>"
      ]
     },
     "metadata": {
      "image/png": {
       "height": 87,
       "width": 199
      }
     },
     "output_type": "display_data"
    }
   ],
   "source": [
    "fullChord = chord.Chord([triad1, triad2, triad3, triad4, wtScale])\n",
    "\n",
    "# fullChord.show()\n",
    "render(fullChord)"
   ]
  },
  {
   "cell_type": "markdown",
   "metadata": {},
   "source": [
    "You can also append the chords to a new Stream()-Object:"
   ]
  },
  {
   "cell_type": "code",
   "execution_count": 38,
   "metadata": {},
   "outputs": [
    {
     "data": {
      "image/png": "[encoded data removed]",
      "text/plain": [
       "<IPython.core.display.Image object>"
      ]
     },
     "metadata": {
      "image/png": {
       "height": 83,
       "width": 748
      }
     },
     "output_type": "display_data"
    }
   ],
   "source": [
    "# create empty stream\n",
    "chordsStream = stream.Stream()\n",
    "\n",
    "# append all the triads to the stream\n",
    "chordsStream.append(triad1);\n",
    "chordsStream.append(triad2);\n",
    "chordsStream.append(triad3);\n",
    "chordsStream.append(triad4);\n",
    "chordsStream.append(wtScale);\n",
    "\n",
    "# chordsStream.show()\n",
    "render(chordsStream)"
   ]
  },
  {
   "cell_type": "markdown",
   "metadata": {},
   "source": [
    "And you can add some analytical descriptions to the objects using the `.addLyric()`-method and different attributes (e.g. `pitchedCommonName`, `intervalVector`, `primeForm`, `forteClass`) of the chords:"
   ]
  },
  {
   "cell_type": "code",
   "execution_count": 39,
   "metadata": {},
   "outputs": [
    {
     "data": {
      "image/png": "[encoded data removed]",
      "text/plain": [
       "<IPython.core.display.Image object>"
      ]
     },
     "metadata": {
      "image/png": {
       "height": 316,
       "width": 751
      }
     },
     "output_type": "display_data"
    }
   ],
   "source": [
    "# iterate over every chord in the stream, and ...\n",
    "for currentChord in chordsStream:\n",
    "    currentChord.addLyric(currentChord.pitchedCommonName)    # ... add triad name\n",
    "    currentChord.addLyric(currentChord.intervalVector)       # ... add interval vector\n",
    "    currentChord.addLyric(currentChord.primeForm)            # ... add prime form\n",
    "    currentChord.addLyric(currentChord.forteClass)           # ... add forte class\n",
    "\n",
    "# chordsStream.show()\n",
    "render(chordsStream)"
   ]
  },
  {
   "cell_type": "markdown",
   "metadata": {},
   "source": [
    "Highlighting certain parts (e.g. all Forte classes \"3-11A\" = minor chord or \"3-11B\" = major chord) is also possible (http://web.mit.edu/music21/doc/usersGuide/usersGuide_10_examples1.html):"
   ]
  },
  {
   "cell_type": "code",
   "execution_count": 42,
   "metadata": {
    "scrolled": true
   },
   "outputs": [
    {
     "data": {
      "image/png": "[encoded data removed]",
      "text/plain": [
       "<IPython.core.display.Image object>"
      ]
     },
     "metadata": {
      "image/png": {
       "height": 316,
       "width": 751
      }
     },
     "output_type": "display_data"
    }
   ],
   "source": [
    "for currentChord in chordsStream.recurse().getElementsByClass('Chord'):\n",
    "    if currentChord.forteClass == '3-11A':\n",
    "        currentChord.style.color = 'red'\n",
    "        for x in currentChord.derivation.chain():\n",
    "            x.style.color = 'blue'\n",
    "    if currentChord.forteClass == '3-11B':\n",
    "        currentChord.style.color = 'blue'\n",
    "        for x in currentChord.derivation.chain():\n",
    "            x.style.color = 'blue'\n",
    "\n",
    "# chordsStream.show()\n",
    "render(chordsStream)"
   ]
  },
  {
   "cell_type": "code",
   "execution_count": null,
   "metadata": {},
   "outputs": [],
   "source": []
  },
  {
   "cell_type": "markdown",
   "metadata": {},
   "source": [
    "### Introducing music21 the serial module"
   ]
  },
  {
   "cell_type": "markdown",
   "metadata": {},
   "source": [
    "Most (=all?) of the twelve tone rows by Schönberg, Berg and Webern are already incorporated into a dictionary list in music21. You get an sorted overview of the rows available in the dictionary with the following command: (http://web.mit.edu/music21/doc/moduleReference/moduleSerial.html)"
   ]
  },
  {
   "cell_type": "code",
   "execution_count": 3,
   "metadata": {},
   "outputs": [
    {
     "data": {
      "text/plain": [
       "['RowBergChamberConcerto',\n",
       " 'RowBergDerWein',\n",
       " 'RowBergLulu',\n",
       " 'RowBergLuluActIIScene1',\n",
       " 'RowBergLuluActIScene20',\n",
       " 'RowBergLyricSuite',\n",
       " 'RowBergLyricSuitePerm',\n",
       " 'RowBergViolinConcerto',\n",
       " 'RowBergWozzeckPassacaglia',\n",
       " 'RowSchoenbergFragOrganSonata',\n",
       " 'RowSchoenbergFragPiano',\n",
       " 'RowSchoenbergFragPianoPhantasia',\n",
       " 'RowSchoenbergIsraelExists',\n",
       " 'RowSchoenbergJakobsleiter',\n",
       " 'RowSchoenbergMosesAron',\n",
       " 'RowSchoenbergOp23No5',\n",
       " 'RowSchoenbergOp24Mvmt4',\n",
       " 'RowSchoenbergOp24Mvmt5',\n",
       " 'RowSchoenbergOp25',\n",
       " 'RowSchoenbergOp26',\n",
       " 'RowSchoenbergOp27No1',\n",
       " 'RowSchoenbergOp27No2',\n",
       " 'RowSchoenbergOp27No3',\n",
       " 'RowSchoenbergOp27No4',\n",
       " 'RowSchoenbergOp28No1',\n",
       " 'RowSchoenbergOp28No3',\n",
       " 'RowSchoenbergOp29',\n",
       " 'RowSchoenbergOp30',\n",
       " 'RowSchoenbergOp31',\n",
       " 'RowSchoenbergOp32',\n",
       " 'RowSchoenbergOp33A',\n",
       " 'RowSchoenbergOp33B',\n",
       " 'RowSchoenbergOp34',\n",
       " 'RowSchoenbergOp35No1',\n",
       " 'RowSchoenbergOp35No2',\n",
       " 'RowSchoenbergOp35No3',\n",
       " 'RowSchoenbergOp35No5',\n",
       " 'RowSchoenbergOp36',\n",
       " 'RowSchoenbergOp37',\n",
       " 'RowSchoenbergOp41',\n",
       " 'RowSchoenbergOp42',\n",
       " 'RowSchoenbergOp44',\n",
       " 'RowSchoenbergOp45',\n",
       " 'RowSchoenbergOp46',\n",
       " 'RowSchoenbergOp47',\n",
       " 'RowSchoenbergOp48No1',\n",
       " 'RowSchoenbergOp48No2',\n",
       " 'RowSchoenbergOp48No3',\n",
       " 'RowSchoenbergOp50A',\n",
       " 'RowSchoenbergOp50B',\n",
       " 'RowSchoenbergOp50C',\n",
       " 'RowWebernOp17No2',\n",
       " 'RowWebernOp17No3',\n",
       " 'RowWebernOp18No1',\n",
       " 'RowWebernOp18No2',\n",
       " 'RowWebernOp18No3',\n",
       " 'RowWebernOp19No1',\n",
       " 'RowWebernOp19No2',\n",
       " 'RowWebernOp20',\n",
       " 'RowWebernOp21',\n",
       " 'RowWebernOp22',\n",
       " 'RowWebernOp23',\n",
       " 'RowWebernOp24',\n",
       " 'RowWebernOp25',\n",
       " 'RowWebernOp26',\n",
       " 'RowWebernOp27',\n",
       " 'RowWebernOp28',\n",
       " 'RowWebernOp29',\n",
       " 'RowWebernOp30',\n",
       " 'RowWebernOp31',\n",
       " 'RowWebernOpNo17No1']"
      ]
     },
     "execution_count": 3,
     "metadata": {},
     "output_type": "execute_result"
    }
   ],
   "source": [
    "sorted(list(serial.historicalDict))"
   ]
  },
  {
   "cell_type": "markdown",
   "metadata": {},
   "source": [
    "For all these rows, music21 provides not only the pitches of the row, but some additional meta information. So let's see what we get with the 'RowBergViolinConcerto':"
   ]
  },
  {
   "cell_type": "code",
   "execution_count": 4,
   "metadata": {},
   "outputs": [
    {
     "name": "stdout",
     "output_type": "stream",
     "text": [
      "<class 'music21.serial.HistoricalTwelveToneRow'>\n",
      "Berg\n",
      "None\n",
      "Concerto For Violin And Orchestra\n",
      "[7, 10, 2, 6, 9, 0, 4, 8, 11, 1, 3, 5]\n",
      "[7, 10, 2, 6, 9, 0, 4, 8, 11, 1, 3, 5]\n"
     ]
    },
    {
     "data": {
      "text/plain": [
       "['G', 'B-', 'D', 'F#', 'A', 'C', 'E', 'G#', 'B', 'C#', 'E-', 'F']"
      ]
     },
     "execution_count": 4,
     "metadata": {},
     "output_type": "execute_result"
    }
   ],
   "source": [
    "bergRowInternal = serial.getHistoricalRowByName('RowBergViolinConcerto')\n",
    "print(type(bergRowInternal))\n",
    "print(bergRowInternal.composer)\n",
    "print(bergRowInternal.opus)\n",
    "print(bergRowInternal.title)\n",
    "print(bergRowInternal.row)\n",
    "print(bergRowInternal.pitchClasses())\n",
    "bergRowInternal.noteNames()"
   ]
  },
  {
   "cell_type": "markdown",
   "metadata": {},
   "source": [
    "### Transformations\n",
    "\n",
    "Using the serial modules' '.originalCenteredTransformation()'-method, you can retrieve transformational forms of a ToneRow()-Object. \"Admissible transformations are ‘T’ (transposition), ‘I’ (inversion), ‘R’ (retrograde), and ‘RI’ (retrograde inversion).\" (http://web.mit.edu/music21/doc/moduleReference/moduleSerial.html)"
   ]
  },
  {
   "cell_type": "code",
   "execution_count": 8,
   "metadata": {},
   "outputs": [
    {
     "name": "stdout",
     "output_type": "stream",
     "text": [
      "original:\n",
      "inversion:\n",
      "retrograde:\n",
      "retrograde inversion:\n"
     ]
    },
    {
     "data": {
      "image/png": "[encoded data removed]",
      "text/plain": [
       "<IPython.core.display.Image object>"
      ]
     },
     "execution_count": 8,
     "metadata": {},
     "output_type": "execute_result"
    }
   ],
   "source": [
    "g = bergRowInternal.originalCenteredTransformation('T', 0)\n",
    "u = bergRowInternal.originalCenteredTransformation('I', 0)\n",
    "k = bergRowInternal.originalCenteredTransformation('R', 0)\n",
    "ku = bergRowInternal.originalCenteredTransformation('RI', 0)\n",
    "\n",
    "print('original:')\n",
    "# g.show()\n",
    "render(g)\n",
    "\n",
    "print('inversion:')\n",
    "# u.show()\n",
    "render(u)\n",
    "\n",
    "print('retrograde:')\n",
    "# k.show()\n",
    "render(k)\n",
    "\n",
    "print('retrograde inversion:')\n",
    "#ku.show()\n",
    "render(ku)"
   ]
  },
  {
   "cell_type": "markdown",
   "metadata": {},
   "source": [
    "### 12-tone matrix \n",
    "\n",
    "You can also easily get the 12-tone matrix of a twelve tone row:"
   ]
  },
  {
   "cell_type": "code",
   "execution_count": 9,
   "metadata": {},
   "outputs": [
    {
     "name": "stdout",
     "output_type": "stream",
     "text": [
      "  0  3  7  B  2  5  9  1  4  6  8  A\n",
      "  9  0  4  8  B  2  6  A  1  3  5  7\n",
      "  5  8  0  4  7  A  2  6  9  B  1  3\n",
      "  1  4  8  0  3  6  A  2  5  7  9  B\n",
      "  A  1  5  9  0  3  7  B  2  4  6  8\n",
      "  7  A  2  6  9  0  4  8  B  1  3  5\n",
      "  3  6  A  2  5  8  0  4  7  9  B  1\n",
      "  B  2  6  A  1  4  8  0  3  5  7  9\n",
      "  8  B  3  7  A  1  5  9  0  2  4  6\n",
      "  6  9  1  5  8  B  3  7  A  0  2  4\n",
      "  4  7  B  3  6  9  1  5  8  A  0  2\n",
      "  2  5  9  1  4  7  B  3  6  8  A  0\n"
     ]
    }
   ],
   "source": [
    "bergMatrix1 = bergRowInternal.matrix()\n",
    "print(bergMatrix1)"
   ]
  },
  {
   "cell_type": "code",
   "execution_count": 10,
   "metadata": {},
   "outputs": [
    {
     "name": "stdout",
     "output_type": "stream",
     "text": [
      "  0  3  7 11  2  5  9  1  4  6  8 10\n",
      "  9  0  4  8 11  2  6 10  1  3  5  7\n",
      "  5  8  0  4  7 10  2  6  9 11  1  3\n",
      "  1  4  8  0  3  6 10  2  5  7  9 11\n",
      " 10  1  5  9  0  3  7 11  2  4  6  8\n",
      "  7 10  2  6  9  0  4  8 11  1  3  5\n",
      "  3  6 10  2  5  8  0  4  7  9 11  1\n",
      " 11  2  6 10  1  4  8  0  3  5  7  9\n",
      "  8 11  3  7 10  1  5  9  0  2  4  6\n",
      "  6  9  1  5  8 11  3  7 10  0  2  4\n",
      "  4  7 11  3  6  9  1  5  8 10  0  2\n",
      "  2  5  9  1  4  7 11  3  6  8 10  0\n"
     ]
    }
   ],
   "source": [
    "bergMatrix2 = serial.rowToMatrix(bergRowInternal.row)\n",
    "print(bergMatrix2)"
   ]
  },
  {
   "cell_type": "markdown",
   "metadata": {},
   "source": [
    "### Segmentation\n",
    "\n",
    "One of the fundamental operations concerning the analysis of a twelve tone composition is segmentation. The following example provides a function, that iterates over a set of notes (`bergRowInternal`) and looks for every possible segment of a certain length (`segmentationSize`). Thus, per default, we iterate over every possible 3-tone segment of the Berg row."
   ]
  },
  {
   "cell_type": "code",
   "execution_count": 11,
   "metadata": {},
   "outputs": [
    {
     "name": "stdout",
     "output_type": "stream",
     "text": [
      "---\n",
      "Run  0  completed.\n",
      "---\n",
      "Run  1  completed.\n",
      "---\n",
      "Run  2  completed.\n",
      "---\n",
      "Run  3  completed.\n",
      "---\n",
      "Run  4  completed.\n",
      "---\n",
      "Run  5  completed.\n",
      "---\n",
      "Run  6  completed.\n",
      "---\n",
      "Run  7  completed.\n",
      "---\n",
      "Run  8  completed.\n",
      "---\n",
      "Run  9  completed.\n"
     ]
    },
    {
     "data": {
      "text/plain": [
       "{0: <music21.serial.ToneRow 0x90ea9b0>,\n",
       " 1: <music21.serial.ToneRow 0x90ea9d0>,\n",
       " 2: <music21.serial.ToneRow 0x90ea7b0>,\n",
       " 3: <music21.serial.ToneRow 0x9b30430>,\n",
       " 4: <music21.serial.ToneRow 0x301f4b0>,\n",
       " 5: <music21.serial.ToneRow 0x301f3b0>,\n",
       " 6: <music21.serial.ToneRow 0x305d2f0>,\n",
       " 7: <music21.serial.ToneRow 0x305d5b0>,\n",
       " 8: <music21.serial.ToneRow 0x305d810>,\n",
       " 9: <music21.serial.ToneRow 0x305da70>}"
      ]
     },
     "execution_count": 11,
     "metadata": {},
     "output_type": "execute_result"
    }
   ],
   "source": [
    "segmentationList = {}\n",
    "segmentationLength = 3     # here you can choose the length of the segments (try other values)\n",
    "\n",
    "rangeEnd = 12 - segmentationLength + 1\n",
    "\n",
    "\n",
    "# iterate over the whole tone row in (rangeEnd - 1) steps\n",
    "for i in range(0,rangeEnd):\n",
    "    print('---')\n",
    "    # create an empty placeholder for the segment as a ToneRow()-Object \n",
    "    # at the position i in the segmentationList\n",
    "    segmentationList[i] = serial.ToneRow()\n",
    "    \n",
    "    # fill up the segment with the corresponding notes\n",
    "    for currentNote in bergRowInternal[i:i+segmentationLength]:\n",
    "        segmentationList[i].append(currentNote)\n",
    "    print('Run ', i, ' completed.')     # This is for control only.\n",
    "    \n",
    "segmentationList     # output of the whole list"
   ]
  },
  {
   "cell_type": "markdown",
   "metadata": {},
   "source": [
    "Now that we have every possible 3-tone segment of the Berg row, we can check if there are any triads in it:"
   ]
  },
  {
   "cell_type": "code",
   "execution_count": 12,
   "metadata": {},
   "outputs": [
    {
     "name": "stdout",
     "output_type": "stream",
     "text": [
      "---\n",
      "RUN  0\n",
      "[<music21.pitch.Pitch G>, <music21.pitch.Pitch B->, <music21.pitch.Pitch D>]\n",
      "MINOR TRIAD: G-minor triad\n",
      "---\n",
      "RUN  1\n",
      "[<music21.pitch.Pitch B->, <music21.pitch.Pitch D>, <music21.pitch.Pitch F#>]\n",
      "B--augmented triad\n",
      "---\n",
      "RUN  2\n",
      "[<music21.pitch.Pitch D>, <music21.pitch.Pitch F#>, <music21.pitch.Pitch A>]\n",
      "MAJOR TRIAD: D-major triad\n",
      "---\n",
      "RUN  3\n",
      "[<music21.pitch.Pitch F#>, <music21.pitch.Pitch A>, <music21.pitch.Pitch C>]\n",
      "F#-diminished triad\n",
      "---\n",
      "RUN  4\n",
      "[<music21.pitch.Pitch A>, <music21.pitch.Pitch C>, <music21.pitch.Pitch E>]\n",
      "MINOR TRIAD: A-minor triad\n",
      "---\n",
      "RUN  5\n",
      "[<music21.pitch.Pitch C>, <music21.pitch.Pitch E>, <music21.pitch.Pitch G#>]\n",
      "C-augmented triad\n",
      "---\n",
      "RUN  6\n",
      "[<music21.pitch.Pitch E>, <music21.pitch.Pitch G#>, <music21.pitch.Pitch B>]\n",
      "MAJOR TRIAD: E-major triad\n",
      "---\n",
      "RUN  7\n",
      "[<music21.pitch.Pitch G#>, <music21.pitch.Pitch B>, <music21.pitch.Pitch C#>]\n",
      "C#-incomplete dominant-seventh chord\n",
      "---\n",
      "RUN  8\n",
      "[<music21.pitch.Pitch B>, <music21.pitch.Pitch C#>, <music21.pitch.Pitch E->]\n",
      "C#-whole-tone trichord\n",
      "---\n",
      "RUN  9\n",
      "[<music21.pitch.Pitch C#>, <music21.pitch.Pitch E->, <music21.pitch.Pitch F>]\n",
      "F-whole-tone trichord\n"
     ]
    }
   ],
   "source": [
    "# check for triads in the segmentation list\n",
    "# make sure to use segmentLength = 3 above \n",
    "# (for segmentLength = 4 you will get 7th and other tetra chords)\n",
    "\n",
    "for i in segmentationList:\n",
    "    print('---')\n",
    "    print('RUN ', i)\n",
    "    outputString = ''\n",
    "    \n",
    "    # get a list of the pitches of the current segment\n",
    "    currentPitchList = segmentationList[i].pitches\n",
    "    print(currentPitchList)\n",
    "    \n",
    "    #use the pitchList as input for a chord\n",
    "    currentChord = chord.Chord(currentPitchList)\n",
    "    \n",
    "    # check for minor triad (with highlighting)\n",
    "    # use forteClass 3-11A instead of 'isMinorTriad()'-method to catch enharmonic equivalents\n",
    "    if currentChord.forteClass == '3-11A':        \n",
    "        currentChord.style.color = 'red'\n",
    "        outputString = 'MINOR TRIAD: '\n",
    "    \n",
    "    # check for major triad (with highlighting)\n",
    "    # use forteClass 3-11B instead of 'isMajorTriad()'-method to catch enharmonic equivalents\n",
    "    if currentChord.forteClass == '3-11B':\n",
    "        currentChord.style.color = 'blue'\n",
    "        outputString = 'MAJOR TRIAD: '\n",
    "    \n",
    "    # currentChord.show()\n",
    "    render(currentChord)\n",
    "    \n",
    "    outputString += currentChord.pitchedCommonName\n",
    "    print(outputString)\n"
   ]
  },
  {
   "cell_type": "code",
   "execution_count": null,
   "metadata": {},
   "outputs": [],
   "source": []
  },
  {
   "cell_type": "code",
   "execution_count": null,
   "metadata": {},
   "outputs": [],
   "source": []
  }
 ],
 "metadata": {
  "kernelspec": {
   "display_name": "Python 3",
   "language": "python",
   "name": "python3"
  },
  "language_info": {
   "codemirror_mode": {
    "name": "ipython",
    "version": 3
   },
   "file_extension": ".py",
   "mimetype": "text/x-python",
   "name": "python",
   "nbconvert_exporter": "python",
   "pygments_lexer": "ipython3",
   "version": "3.6.4"
  }
 },
 "nbformat": 4,
 "nbformat_minor": 2
}
